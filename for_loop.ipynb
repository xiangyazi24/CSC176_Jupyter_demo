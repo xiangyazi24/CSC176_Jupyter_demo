{
 "cells": [
  {
   "cell_type": "code",
   "execution_count": 1,
   "metadata": {},
   "outputs": [
    {
     "name": "stdout",
     "output_type": "stream",
     "text": [
      "i is:0\n",
      "i is:1\n",
      "i is:2\n",
      "i is:3\n",
      "i is:4\n",
      "i is:5\n",
      "i is:6\n",
      "i is:7\n",
      "i is:8\n",
      "i is:9\n"
     ]
    }
   ],
   "source": [
    "for(int i=0;i< 10;i++)\n",
    "{\n",
    "    System.out.println(\"i is:\" + i);\n",
    "}"
   ]
  },
  {
   "cell_type": "code",
   "execution_count": null,
   "metadata": {},
   "outputs": [],
   "source": []
  }
 ],
 "metadata": {
  "kernelspec": {
   "display_name": "Java",
   "language": "java",
   "name": "java"
  },
  "language_info": {
   "codemirror_mode": "java",
   "file_extension": ".jshell",
   "mimetype": "text/x-java-source",
   "name": "Java",
   "pygments_lexer": "java",
   "version": "11.0.2+7-LTS"
  }
 },
 "nbformat": 4,
 "nbformat_minor": 2
}
